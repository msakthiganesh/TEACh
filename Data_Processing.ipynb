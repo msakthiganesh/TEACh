{
 "cells": [
  {
   "cell_type": "markdown",
   "id": "1d72b66f",
   "metadata": {},
   "source": [
    "### Basic"
   ]
  },
  {
   "cell_type": "code",
   "execution_count": null,
   "id": "d5c24fd2",
   "metadata": {},
   "outputs": [],
   "source": [
    "!pwd"
   ]
  },
  {
   "cell_type": "code",
   "execution_count": null,
   "id": "4b7e565b",
   "metadata": {},
   "outputs": [],
   "source": [
    "DATA_VAL = \"data9\"\n",
    "SPLIT_NAME = \"valid_seen\"\n",
    "FULL_DATA_DIR = \"full_data\"\n",
    "# SPLIT_NAME = \"train\"\n",
    "# SPLIT_NAME = \"valid_unseen\""
   ]
  },
  {
   "cell_type": "code",
   "execution_count": null,
   "id": "fa24494d",
   "metadata": {},
   "outputs": [],
   "source": [
    "import os\n",
    "import shutil\n",
    "from distutils.dir_util import copy_tree\n",
    "from tqdm.notebook import tqdm"
   ]
  },
  {
   "cell_type": "code",
   "execution_count": null,
   "id": "329be10d",
   "metadata": {},
   "outputs": [],
   "source": [
    "all_files_lst = os.listdir(f\"/Users/sakthi/Desktop/TEACh/{FULL_DATA_DIR}/edh_instances/{SPLIT_NAME}/\")"
   ]
  },
  {
   "cell_type": "code",
   "execution_count": null,
   "id": "6c8b52f5",
   "metadata": {},
   "outputs": [],
   "source": [
    "all_files_lst"
   ]
  },
  {
   "cell_type": "code",
   "execution_count": null,
   "id": "c6f98d79",
   "metadata": {},
   "outputs": [],
   "source": [
    "if \".DS_Store\" in  all_files_lst:\n",
    "    ds_store_idx = all_files_lst.index('.DS_Store')\n",
    "    all_files_lst.pop(ds_store_idx)"
   ]
  },
  {
   "cell_type": "code",
   "execution_count": null,
   "id": "d1a746a4",
   "metadata": {},
   "outputs": [],
   "source": [
    "len(all_files_lst)"
   ]
  },
  {
   "cell_type": "code",
   "execution_count": null,
   "id": "da7e9d3e",
   "metadata": {
    "scrolled": true
   },
   "outputs": [],
   "source": [
    "file_names = []\n",
    "for f in all_files_lst[:200]:\n",
    "    file_names.append(f.split(\".edh\")[0])"
   ]
  },
  {
   "cell_type": "code",
   "execution_count": null,
   "id": "5f04b867",
   "metadata": {},
   "outputs": [],
   "source": [
    "file_names"
   ]
  },
  {
   "cell_type": "code",
   "execution_count": null,
   "id": "f7081206",
   "metadata": {},
   "outputs": [],
   "source": [
    "len(file_names)"
   ]
  },
  {
   "cell_type": "markdown",
   "id": "362bf161",
   "metadata": {},
   "source": [
    "### Copying all_games -- RUN ONLY ONCE"
   ]
  },
  {
   "cell_type": "code",
   "execution_count": null,
   "id": "7cb4fe30",
   "metadata": {},
   "outputs": [],
   "source": [
    "all_games_source_dir = os.path.abspath(f\"/Users/sakthi/Desktop/TEACh/{FULL_DATA_DIR}/all_games/all_game_files/\")\n",
    "all_games_destination_dir = os.path.abspath(f\"/Users/sakthi/Desktop/TEACh/{DATA_VAL}/all_games/all_game_files/\")"
   ]
  },
  {
   "cell_type": "code",
   "execution_count": null,
   "id": "d87941d8",
   "metadata": {},
   "outputs": [],
   "source": [
    "all_games_f = os.listdir(all_games_source_dir)"
   ]
  },
  {
   "cell_type": "code",
   "execution_count": null,
   "id": "ef33d729",
   "metadata": {},
   "outputs": [],
   "source": [
    "all_games_f"
   ]
  },
  {
   "cell_type": "code",
   "execution_count": null,
   "id": "13502ded",
   "metadata": {},
   "outputs": [],
   "source": [
    "all_games_to_copy = []\n",
    "xag = []\n",
    "for i, v in enumerate(file_names):\n",
    "    for f in all_games_f:\n",
    "        if v in f:\n",
    "            all_games_to_copy.append(f)\n",
    "            xag.append(f.split(\".game\")[0])"
   ]
  },
  {
   "cell_type": "code",
   "execution_count": null,
   "id": "7f95f9fa",
   "metadata": {},
   "outputs": [],
   "source": [
    "len(xag)"
   ]
  },
  {
   "cell_type": "code",
   "execution_count": null,
   "id": "829272be",
   "metadata": {},
   "outputs": [],
   "source": [
    "len(all_games_to_copy)"
   ]
  },
  {
   "cell_type": "code",
   "execution_count": null,
   "id": "51e13354",
   "metadata": {},
   "outputs": [],
   "source": [
    "for f in all_games_to_copy:   \n",
    "    shutil.copy(os.path.join(all_games_source_dir, f), all_games_destination_dir)"
   ]
  },
  {
   "cell_type": "markdown",
   "id": "3a8329d1",
   "metadata": {},
   "source": [
    "### Copying edh_instances"
   ]
  },
  {
   "cell_type": "code",
   "execution_count": null,
   "id": "b88c734a",
   "metadata": {},
   "outputs": [],
   "source": [
    "edh_instances_source_dir = os.path.abspath(f\"/Users/sakthi/Desktop/TEACh/{FULL_DATA_DIR}/edh_instances/{SPLIT_NAME}/\")\n",
    "edh_instances_destination_dir = os.path.abspath(f\"/Users/sakthi/Desktop/TEACh/{DATA_VAL}/edh_instances/{SPLIT_NAME}/\")"
   ]
  },
  {
   "cell_type": "code",
   "execution_count": null,
   "id": "7c48fc5a",
   "metadata": {},
   "outputs": [],
   "source": [
    "edh_instances_f = os.listdir(edh_instances_source_dir)"
   ]
  },
  {
   "cell_type": "code",
   "execution_count": null,
   "id": "9f873f86",
   "metadata": {},
   "outputs": [],
   "source": [
    "edh_instances_to_copy = []\n",
    "xedh= []\n",
    "for i, v in enumerate(file_names):\n",
    "    for f in edh_instances_f:\n",
    "        if v in f:\n",
    "            edh_instances_to_copy.append(f)\n",
    "            xedh.append(f.split(\".edh\")[0])"
   ]
  },
  {
   "cell_type": "code",
   "execution_count": null,
   "id": "ad5f313f",
   "metadata": {},
   "outputs": [],
   "source": [
    "len(edh_instances_to_copy)"
   ]
  },
  {
   "cell_type": "code",
   "execution_count": null,
   "id": "2ea336ad",
   "metadata": {},
   "outputs": [],
   "source": [
    "for f in tqdm(edh_instances_to_copy):   \n",
    "    shutil.copy(os.path.join(edh_instances_source_dir, f), edh_instances_destination_dir)"
   ]
  },
  {
   "cell_type": "markdown",
   "id": "ed61bb84",
   "metadata": {},
   "source": [
    "### Copying games"
   ]
  },
  {
   "cell_type": "code",
   "execution_count": null,
   "id": "7156215a",
   "metadata": {},
   "outputs": [],
   "source": [
    "games_source_dir = os.path.abspath(f\"/Users/sakthi/Desktop/TEACh/{FULL_DATA_DIR}/games/{SPLIT_NAME}/\")\n",
    "games_destination_dir = os.path.abspath(f\"/Users/sakthi/Desktop/TEACh/{DATA_VAL}/games/{SPLIT_NAME}/\")"
   ]
  },
  {
   "cell_type": "code",
   "execution_count": null,
   "id": "cbc7fe57",
   "metadata": {},
   "outputs": [],
   "source": [
    "games_f = os.listdir(games_source_dir)"
   ]
  },
  {
   "cell_type": "code",
   "execution_count": null,
   "id": "a2ead68e",
   "metadata": {},
   "outputs": [],
   "source": [
    "games_to_copy = []\n",
    "for i, v in enumerate(file_names):\n",
    "    for f in games_f:\n",
    "        if v in f:\n",
    "            games_to_copy.append(f)"
   ]
  },
  {
   "cell_type": "code",
   "execution_count": null,
   "id": "8d8bebc2",
   "metadata": {},
   "outputs": [],
   "source": [
    "len(games_to_copy)"
   ]
  },
  {
   "cell_type": "code",
   "execution_count": null,
   "id": "71882a62",
   "metadata": {},
   "outputs": [],
   "source": [
    "for f in games_to_copy:   \n",
    "    shutil.copy(os.path.join(games_source_dir, f), games_destination_dir)"
   ]
  },
  {
   "cell_type": "markdown",
   "id": "1e99c0c9",
   "metadata": {},
   "source": [
    "### Copying images_and_states"
   ]
  },
  {
   "cell_type": "code",
   "execution_count": null,
   "id": "7ed80136",
   "metadata": {},
   "outputs": [],
   "source": [
    "images_source_dir = os.path.abspath(f\"/Users/sakthi/Desktop/TEACh/{FULL_DATA_DIR}/images_and_states/images/{SPLIT_NAME}/\")\n",
    "images_destination_dir = os.path.abspath(f\"/Users/sakthi/Desktop/TEACh/{DATA_VAL}/images/{SPLIT_NAME}\")"
   ]
  },
  {
   "cell_type": "code",
   "execution_count": null,
   "id": "142caac5",
   "metadata": {},
   "outputs": [],
   "source": [
    "images_f = os.listdir(images_source_dir)"
   ]
  },
  {
   "cell_type": "code",
   "execution_count": null,
   "id": "a764152f",
   "metadata": {},
   "outputs": [],
   "source": [
    "images_to_copy = []\n",
    "for i, v in enumerate(file_names):\n",
    "    for f in images_f:\n",
    "        if v in f:\n",
    "            images_to_copy.append(f)"
   ]
  },
  {
   "cell_type": "code",
   "execution_count": null,
   "id": "a70d3fcf",
   "metadata": {},
   "outputs": [],
   "source": [
    "len(images_to_copy)"
   ]
  },
  {
   "cell_type": "code",
   "execution_count": null,
   "id": "a1371ff7",
   "metadata": {},
   "outputs": [],
   "source": [
    "for f in images_to_copy:   \n",
    "    os.makedirs(os.path.join(images_destination_dir, f), exist_ok=True)"
   ]
  },
  {
   "cell_type": "code",
   "execution_count": null,
   "id": "2202d115",
   "metadata": {},
   "outputs": [],
   "source": [
    "for f in tqdm(images_to_copy):\n",
    "    f_lst = os.listdir(os.path.join(images_source_dir, f))\n",
    "    src = images_source_dir +\"/\" + f\n",
    "    dest = images_destination_dir +\"/\" + f\n",
    "    for img in f_lst:\n",
    "        shutil.copy(os.path.join(src, img), dest)"
   ]
  },
  {
   "cell_type": "markdown",
   "id": "b7a9f478",
   "metadata": {},
   "source": [
    "### Copying tfd_instances"
   ]
  },
  {
   "cell_type": "code",
   "execution_count": null,
   "id": "d14ac25a",
   "metadata": {},
   "outputs": [],
   "source": [
    "tfd_source_dir = os.path.abspath(f\"/Users/sakthi/Desktop/TEACh/{FULL_DATA_DIR}/tfd_instances/{SPLIT_NAME}/\")\n",
    "tfd_destination_dir = os.path.abspath(f\"/Users/sakthi/Desktop/TEACh/{DATA_VAL}/tfd_instances/{SPLIT_NAME}\")"
   ]
  },
  {
   "cell_type": "code",
   "execution_count": null,
   "id": "1d777117",
   "metadata": {},
   "outputs": [],
   "source": [
    "tfd_f = os.listdir(tfd_source_dir)"
   ]
  },
  {
   "cell_type": "code",
   "execution_count": null,
   "id": "45514b3b",
   "metadata": {},
   "outputs": [],
   "source": [
    "tfd_to_copy = []\n",
    "for i, v in enumerate(file_names):\n",
    "    for f in tfd_f:\n",
    "        if v in f:\n",
    "            tfd_to_copy.append(f)"
   ]
  },
  {
   "cell_type": "code",
   "execution_count": null,
   "id": "d2da8578",
   "metadata": {},
   "outputs": [],
   "source": [
    "len(tfd_to_copy)"
   ]
  },
  {
   "cell_type": "code",
   "execution_count": null,
   "id": "3b760b00",
   "metadata": {},
   "outputs": [],
   "source": [
    "for f in tfd_to_copy:   \n",
    "    shutil.copy(os.path.join(tfd_source_dir, f), tfd_destination_dir)"
   ]
  },
  {
   "cell_type": "code",
   "execution_count": null,
   "id": "6184ad85",
   "metadata": {},
   "outputs": [],
   "source": [
    "!pwd"
   ]
  },
  {
   "cell_type": "code",
   "execution_count": null,
   "id": "1bfedc09",
   "metadata": {},
   "outputs": [],
   "source": []
  }
 ],
 "metadata": {
  "kernelspec": {
   "display_name": "Python 3.8.13 ('teach')",
   "language": "python",
   "name": "python3"
  },
  "language_info": {
   "codemirror_mode": {
    "name": "ipython",
    "version": 3
   },
   "file_extension": ".py",
   "mimetype": "text/x-python",
   "name": "python",
   "nbconvert_exporter": "python",
   "pygments_lexer": "ipython3",
   "version": "3.8.13"
  },
  "vscode": {
   "interpreter": {
    "hash": "9939e739bce9491136c3e2bdad407312e3f656c89a504860066f294b33d91e59"
   }
  }
 },
 "nbformat": 4,
 "nbformat_minor": 5
}
